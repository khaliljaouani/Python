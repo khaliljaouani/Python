{
 "cells": [
  {
   "cell_type": "code",
   "execution_count": 3,
   "metadata": {},
   "outputs": [],
   "source": [
    "import numpy as np\n",
    "import cv2 as cv"
   ]
  },
  {
   "cell_type": "code",
   "execution_count": 12,
   "metadata": {},
   "outputs": [],
   "source": [
    "#Question_1\n",
    "image =cv.imread('japon.jpg')\n",
    "#image original\n",
    "resized_img=cv.resize(image, (650,350))\n",
    "cv.imshow(\"Japon image\",resized_img)\n",
    "#image gray\n",
    "gray = cv.cvtColor(image, cv.COLOR_BGR2GRAY)\n",
    "resized_img=cv.resize(gray, (650,350))\n",
    "cv.imshow(\"Japon image modifier\",resized_img)\n",
    "cv.waitKey(0)\n",
    "#Question_2\n",
    "cv.imwrite(\"japonmodifier.png\",resized_img)\n",
    "cv.destroyAllWindows()"
   ]
  },
  {
   "cell_type": "code",
   "execution_count": 13,
   "metadata": {},
   "outputs": [],
   "source": [
    "#Question_3 \n",
    "image =cv.imread('Ronaldo.jpg')\n",
    "resized_img=cv.resize(image, (650,350))\n",
    "#Original photo\n",
    "cv.imshow(\"Image \",resized_img)\n",
    "#modification photo\n",
    "cv.rectangle(resized_img,(270,180),(135,10),(0,255,0),1)\n",
    "cv.circle(resized_img,(170,93), 15,(180,130,70), 1)\n",
    "cv.circle(resized_img,(220,87), 15,(180,130,70), -1)\n",
    "cv.imshow(\"Image modifier\", resized_img)\n",
    "cv.waitKey(0)\n",
    "#Question4\n",
    "cv.imwrite(\"Ronaldo modifier.png\",resized_img)\n",
    "cv.destroyAllWindows()"
   ]
  },
  {
   "cell_type": "code",
   "execution_count": 11,
   "metadata": {},
   "outputs": [
    {
     "name": "stdout",
     "output_type": "stream",
     "text": [
      "(350, 650, 3)\n",
      "(350, 650, 3)\n",
      "les deux images sont égaux(dimensions et channels)\n",
      "les images sont complétement différentes\n"
     ]
    }
   ],
   "source": [
    "#Question_5\n",
    "image1=cv.imread(\"Ronaldo.jpg\")\n",
    "resized_img=cv.resize(image1, (650,350))\n",
    "print(resized_img.shape)\n",
    "image2=cv.imread(\"Hassan.jpg\")\n",
    "resized_img1=cv.resize(image2, (650,350))\n",
    "print(resized_img1.shape)\n",
    "if resized_img1.shape == resized_img.shape:\n",
    "    print(\"les deux images sont égaux(dimensions et channels)\")\n",
    "else:\n",
    "    print(\"les images sont différentes\")\n",
    "\n",
    "diff = cv.subtract(resized_img, resized_img1)\n",
    "b,g,r=cv.split(diff)\n",
    "\n",
    "if cv.countNonZero(b) == 0 and cv.countNonZero(g) == 0 and cv.countNonZero(r) == 0:\n",
    "    print(\"les images sont complétement égaux\")\n",
    "else: \n",
    "    print(\"les images sont complétement différentes\")\n"
   ]
  },
  {
   "cell_type": "code",
   "execution_count": 15,
   "metadata": {},
   "outputs": [],
   "source": [
    "#Question_6\n",
    "img_hassan=cv.imread(\"Hassan.jpg\")\n",
    "resized_img=cv.resize(img_hassan, (650,350))\n",
    "img_ronaldo=cv.imread(\"Ronaldo.png\")\n",
    "resized_img1=cv.resize(img_ronaldo, (650,350))\n",
    "img_weighted = cv.addWeighted(resized_img, 0.3, resized_img1, 0.7, 0)\n",
    "cv.imshow(\"Hassan.jpg\", resized_img)\n",
    "cv.imshow(\"Rnaldo\", resized_img1)\n",
    "cv.imshow(\"Hassan & Ronaldo\", img_weighted)\n",
    "cv.waitKey(0)\n",
    "cv.destroyAllWindows()\n"
   ]
  },
  {
   "cell_type": "code",
   "execution_count": null,
   "metadata": {},
   "outputs": [],
   "source": []
  }
 ],
 "metadata": {
  "kernelspec": {
   "display_name": "Python 3",
   "language": "python",
   "name": "python3"
  },
  "language_info": {
   "codemirror_mode": {
    "name": "ipython",
    "version": 3
   },
   "file_extension": ".py",
   "mimetype": "text/x-python",
   "name": "python",
   "nbconvert_exporter": "python",
   "pygments_lexer": "ipython3",
   "version": "3.8.5"
  }
 },
 "nbformat": 4,
 "nbformat_minor": 4
}
